{
 "cells": [
  {
   "cell_type": "code",
   "execution_count": 39,
   "metadata": {},
   "outputs": [
    {
     "name": "stdout",
     "output_type": "stream",
     "text": [
      "hellou init\n",
      "hellou\n",
      "Starting to build the decision tree...\n",
      "\n"
     ]
    },
    {
     "name": "stderr",
     "output_type": "stream",
     "text": [
      "Processing features: 100%|██████████| 64/64 [00:32<00:00,  1.97it/s]\n"
     ]
    },
    {
     "name": "stdout",
     "output_type": "stream",
     "text": [
      "Depth: 0 | Feature: 42 | Threshold: 7.0\n",
      "Depth: 1 | Feature: 43 | Threshold: 3.0\n",
      "Depth: 2 | Feature: 26 | Threshold: 5.0\n",
      "Depth: 2 | Feature: 61 | Threshold: 0.0\n",
      "Depth: 1 | Feature: 38 | Threshold: 0.0\n",
      "Depth: 2 | Feature: 28 | Threshold: 4.0\n",
      "Depth: 2 | Feature: 36 | Threshold: 1.0\n",
      "\n",
      "Tree building complete!\n"
     ]
    }
   ],
   "source": [
    "import sklearn\n",
    "from sklearn.datasets import load_digits\n",
    "from main import DecisionTree\n",
    "import numpy as np\n",
    "from sklearn.model_selection import train_test_split\n",
    "\n",
    "\n",
    "\n",
    "data = load_digits()\n",
    "X = data.data\n",
    "y = data.target\n",
    "X_train, x_test, y_train, y_test = train_test_split(X, y, test_size=0.2)\n",
    "\n",
    "\n",
    "tree = DecisionTree(criterion=\"entropy\", max_depth=3)\n",
    "tree.fit(X_train, y_train)\n",
    "# print(tree)"
   ]
  },
  {
   "cell_type": "code",
   "execution_count": 40,
   "metadata": {},
   "outputs": [
    {
     "name": "stdout",
     "output_type": "stream",
     "text": [
      "[0, 6, 7, 7, 0, 9, 9, 2, 4, 3, 8, 8, 2, 8, 7, 8, 3, 9, 4, 2, 3, 0, 7, 0, 7, 4, 9, 0, 9, 4, 9, 0, 8, 6, 7, 3, 9, 8, 2, 6, 9, 3, 6, 7, 8, 9, 4, 2, 9, 0, 8, 0, 9, 8, 8, 8, 7, 3, 4, 0, 4, 7, 4, 0, 6, 6, 7, 2, 9, 9, 4, 8, 7, 7, 9, 8, 6, 4, 4, 4, 2, 9, 9, 4, 7, 9, 4, 9, 4, 8, 9, 7, 7, 3, 7, 3, 9, 8, 9, 2, 2, 9, 4, 8, 8, 9, 9, 6, 4, 7, 2, 4, 2, 0, 2, 9, 0, 4, 6, 3, 4, 2, 4, 7, 7, 9, 9, 9, 4, 8, 9, 9, 3, 9, 2, 4, 9, 8, 4, 0, 9, 3, 8, 0, 2, 2, 9, 3, 4, 4, 4, 6, 9, 0, 9, 4, 9, 2, 0, 8, 3, 3, 7, 7, 6, 6, 2, 7, 0, 9, 8, 2, 7, 8, 2, 4, 8, 4, 0, 0, 3, 3, 3, 2, 3, 2, 2, 0, 8, 7, 4, 8, 7, 7, 0, 9, 7, 8, 8, 9, 2, 3, 6, 4, 7, 8, 2, 8, 3, 4, 0, 9, 7, 2, 7, 3, 7, 2, 0, 2, 9, 8, 4, 4, 9, 7, 4, 4, 0, 7, 0, 4, 9, 4, 2, 9, 9, 4, 3, 8, 9, 3, 3, 8, 7, 2, 9, 2, 8, 9, 3, 8, 9, 4, 0, 3, 9, 8, 8, 2, 7, 2, 9, 8, 9, 8, 7, 3, 4, 9, 8, 3, 3, 3, 8, 2, 4, 6, 7, 8, 7, 8, 3, 7, 4, 9, 0, 4, 7, 2, 0, 2, 8, 8, 8, 3, 8, 2, 9, 4, 4, 6, 8, 2, 0, 4, 0, 8, 8, 9, 4, 0, 7, 2, 8, 2, 0, 9, 8, 3, 4, 7, 2, 8, 7, 6, 7, 9, 2, 9, 9, 4, 3, 8, 7, 2, 9, 8, 4, 3, 2, 9, 9, 7, 2, 0, 9, 7, 0, 0, 7, 3, 8, 7, 3, 9, 2, 9, 9, 3]\n"
     ]
    }
   ],
   "source": [
    "y_pred = tree.predict(x_test)\n",
    "\n",
    "print(y_pred)"
   ]
  },
  {
   "cell_type": "code",
   "execution_count": 41,
   "metadata": {},
   "outputs": [
    {
     "name": "stdout",
     "output_type": "stream",
     "text": [
      "0.5166666666666667\n"
     ]
    }
   ],
   "source": [
    "corr = 0\n",
    "for i in range(len(y_pred)):\n",
    "    if y_pred[i] == y_test[i]:\n",
    "        corr += 1\n",
    "\n",
    "Accuracy = corr/len(y_pred)\n",
    "\n",
    "print(Accuracy)"
   ]
  },
  {
   "cell_type": "code",
   "execution_count": 42,
   "metadata": {},
   "outputs": [
    {
     "data": {
      "image/png": "[encoded data removed]",
      "text/plain": [
       "<Figure size 1000x500 with 10 Axes>"
      ]
     },
     "metadata": {},
     "output_type": "display_data"
    }
   ],
   "source": [
    "import matplotlib.pyplot as plt\n",
    "# Visualize a few samples\n",
    "num_samples = 10  # Number of samples to visualize\n",
    "plt.figure(figsize=(10, 5))\n",
    "\n",
    "for i in range(num_samples):\n",
    "    # Reshape the 1D array into an 8x8 image\n",
    "    image = x_test[i].reshape(8, 8)\n",
    "    \n",
    "    # Get the true and predicted labels\n",
    "    true_label = y_test[i]\n",
    "    predicted_label = y_pred[i]\n",
    "    \n",
    "    # Plot the image\n",
    "    plt.subplot(2, 5, i + 1)\n",
    "    plt.imshow(image, cmap='gray')\n",
    "    plt.axis('off')  # Turn off axis labels\n",
    "    plt.title(f\"True: {true_label}\\nPred: {predicted_label}\")\n",
    "\n",
    "plt.tight_layout()\n",
    "plt.show()"
   ]
  },
  {
   "cell_type": "code",
   "execution_count": null,
   "metadata": {},
   "outputs": [],
   "source": []
  }
 ],
 "metadata": {
  "kernelspec": {
   "display_name": "Python 3",
   "language": "python",
   "name": "python3"
  },
  "language_info": {
   "codemirror_mode": {
    "name": "ipython",
    "version": 3
   },
   "file_extension": ".py",
   "mimetype": "text/x-python",
   "name": "python",
   "nbconvert_exporter": "python",
   "pygments_lexer": "ipython3",
   "version": "3.9.13"
  }
 },
 "nbformat": 4,
 "nbformat_minor": 2
}
